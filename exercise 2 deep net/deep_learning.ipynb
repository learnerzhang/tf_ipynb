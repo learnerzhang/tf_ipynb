{
 "cells": [
  {
   "cell_type": "code",
   "execution_count": 27,
   "metadata": {
    "collapsed": true
   },
   "outputs": [
    {
     "name": "stdout",
     "output_type": "stream",
     "text": [
      "Tensor V value : \n[[1. 2. 3.]\n [4. 5. 6.]] \n\nTensor V1 value : \n[[1. 2.]\n [3. 4.]] \n\nTensor V2 value : \n[[5. 6.]\n [7. 8.]] \n\n"
     ]
    }
   ],
   "source": [
    "import tensorflow as tf\n",
    "\n",
    "v = tf.constant([[1.0, 2.0, 3.0], [4.0, 5.0, 6.0]])\n",
    "\n",
    "v1 = tf.constant([[1.0, 2.0], [3.0, 4.0]])\n",
    "v2 = tf.constant([[5.0, 6.0], [7.0, 8.0]])\n",
    "\n",
    "with tf.Session() as sess:\n",
    "    sess.run(tf.initialize_all_variables())\n",
    "    print \"Tensor V value : \\n\", sess.run(v), \"\\n\"\n",
    "    print \"Tensor V1 value : \\n\", sess.run(v1), \"\\n\"\n",
    "    print \"Tensor V2 value : \\n\", sess.run(v2), \"\\n\""
   ]
  },
  {
   "cell_type": "code",
   "execution_count": 30,
   "metadata": {},
   "outputs": [
    {
     "name": "stdout",
     "output_type": "stream",
     "text": [
      "Tensor V Log : \n[[0.        0.6931472 1.0986123]\n [1.3862944 1.609438  1.7917595]] \n\nTensor V reduce mean :\n3.5 \n\n"
     ]
    }
   ],
   "source": [
    "import tensorflow as tf\n",
    "\n",
    "v = tf.constant([[1.0, 2.0, 3.0], [4.0, 5.0, 6.0]])\n",
    "\n",
    "v1 = tf.constant([[1.0, 2.0], [3.0, 4.0]])\n",
    "v2 = tf.constant([[5.0, 6.0], [7.0, 8.0]])\n",
    "with tf.Session() as sess:\n",
    "    sess.run(tf.initialize_all_variables())\n",
    "    \n",
    "    print \"Tensor V Log : \\n\", sess.run(tf.log(v)), \"\\n\"\n",
    "    print \"Tensor V reduce mean :\\n\", sess.run(tf.reduce_mean(v)), \"\\n\""
   ]
  },
  {
   "cell_type": "code",
   "execution_count": 29,
   "metadata": {},
   "outputs": [
    {
     "name": "stdout",
     "output_type": "stream",
     "text": [
      "V1 * V2 : \n[[ 5. 12.]\n [21. 32.]] \n\nV1 matmul V2 : \n[[19. 22.]\n [43. 50.]] \n\nclip_by_value : \n[[2.5 2.5 3. ]\n [4.  4.5 4.5]]\n"
     ]
    }
   ],
   "source": [
    "import tensorflow as tf\n",
    "\n",
    "v = tf.constant([[1.0, 2.0, 3.0], [4.0, 5.0, 6.0]])\n",
    "v1 = tf.constant([[1.0, 2.0], [3.0, 4.0]])\n",
    "v2 = tf.constant([[5.0, 6.0], [7.0, 8.0]])\n",
    "\n",
    "with tf.Session() as sess:\n",
    "    sess.run(tf.initialize_all_variables())\n",
    "    print \"V1 * V2 : \\n\", sess.run(v1 * v2), \"\\n\"\n",
    "    print \"V1 matmul V2 : \\n\", sess.run(tf.matmul(v1, v2)), \"\\n\"\n",
    "    print \"clip_by_value : \\n\", sess.run(tf.clip_by_value(v, 2.5, 4.5))"
   ]
  },
  {
   "cell_type": "code",
   "execution_count": 33,
   "metadata": {},
   "outputs": [
    {
     "name": "stdout",
     "output_type": "stream",
     "text": [
      "[False False  True  True]\n"
     ]
    }
   ],
   "source": [
    "import tensorflow as tf\n",
    "v1 = tf.constant([1.0, 2.0, 3.0, 4.0])\n",
    "v2 = tf.constant([4.0, 3.0, 2.0, 1.0])\n",
    "\n",
    "sess = tf.InteractiveSession()\n",
    "print sess.run(tf.greater(v1, v2))\n"
   ]
  },
  {
   "cell_type": "code",
   "execution_count": 44,
   "metadata": {
    "collapsed": false
   },
   "outputs": [
    {
     "name": "stdout",
     "output_type": "stream",
     "text": [
      "(128, 2) (128, 1)\n"
     ]
    },
    {
     "name": "stdout",
     "output_type": "stream",
     "text": [
      "\nparameter w1: \n[[-0.81031823]\n [ 1.4855988 ]]\nloss: 5.9678044\n"
     ]
    },
    {
     "name": "stdout",
     "output_type": "stream",
     "text": [
      "\nparameter w1: \n[[0.01247112]\n [2.1385448 ]]\nloss: 1.3432351\n"
     ]
    },
    {
     "name": "stdout",
     "output_type": "stream",
     "text": [
      "\nparameter w1: \n[[0.45567414]\n [2.1706066 ]]\nloss: 0.6813779\n"
     ]
    },
    {
     "name": "stdout",
     "output_type": "stream",
     "text": [
      "\nparameter w1: \n[[0.69968724]\n [1.8465308 ]]\nloss: 0.44227606\n"
     ]
    },
    {
     "name": "stdout",
     "output_type": "stream",
     "text": [
      "\nparameter w1: \n[[0.89886665]\n [1.2973602 ]]\nloss: 0.16296774\n"
     ]
    }
   ],
   "source": [
    "import tensorflow as tf\n",
    "import numpy as np\n",
    "from numpy.random import RandomState\n",
    "\n",
    "batch_size = 8\n",
    "\n",
    "x = tf.placeholder(dtype=tf.float32, shape=(None, 2), name='x-input')\n",
    "y_ = tf.placeholder(dtype=tf.float32, shape=(None, 1), name='y-input')\n",
    "\n",
    "w1 = tf.Variable(tf.random_normal([2, 1], stddev=1, seed=1))\n",
    "y = tf.matmul(x, w1)\n",
    "\n",
    "loss_less = 10\n",
    "loss_more = 1\n",
    "\n",
    "loss = tf.reduce_mean(tf.where(tf.greater(y, y_), (y-y_) * loss_more, (y_ - y) * loss_less))\n",
    "opt = tf.train.AdamOptimizer(0.001).minimize(loss)\n",
    "\n",
    "\n",
    "rdm = RandomState(1)\n",
    "dataset_size = 128\n",
    "X = rdm.rand(dataset_size, 2)\n",
    "Y = np.array([[x1 + x2 + rdm.rand()/10.0 - 0.05] for (x1, x2) in X])\n",
    "\n",
    "print X.shape, Y.shape\n",
    "with tf.Session() as sess:\n",
    "    sess.run(tf.initialize_all_variables())\n",
    "    STEPS = 5000\n",
    "    for i in range(STEPS):\n",
    "        start = (i * batch_size) % dataset_size\n",
    "        end = min(start + batch_size, dataset_size)\n",
    "        sess.run(opt, feed_dict={x: X[start: end], y_: Y[start: end]})\n",
    "        if i % 1000 == 0:\n",
    "            print \"\\nparameter w1: \\n\", sess.run(w1)\n",
    "            print \"loss:\", sess.run(loss, feed_dict={x: X, y_: Y})\n"
   ]
  },
  {
   "cell_type": "code",
   "execution_count": 45,
   "metadata": {},
   "outputs": [],
   "source": [
    "import tensorflow as tf\n",
    "\n",
    "\n",
    "def get_weight(shape, _lambda):\n",
    "    var = tf.Variable(tf.random_normal(shape), dtype=tf.float32)\n",
    "    tf.add_to_collection('losses', tf.contrib.layers.l2_regularizer(_lambda)(var))\n",
    "    return var\n",
    "\n",
    "\n",
    "x = tf.placeholder(tf.float32, shape=(None, 2))\n",
    "y_ = tf.placeholder(tf.float32, shape=(None, 1))\n",
    "\n",
    "batch_size = 8\n",
    "\n",
    "layer_dimension = [2, 10, 10, 10, 1]\n",
    "\n",
    "n_layers = len(layer_dimension)\n",
    "\n",
    "cur_layer = x\n",
    "in_dimension = layer_dimension[0]\n",
    "\n",
    "for i in range(1, n_layers):\n",
    "    out_dimension = layer_dimension[i]\n",
    "    \n",
    "    weight = get_weight([in_dimension, out_dimension], 0.001)\n",
    "    bias = tf.Variable(tf.constant(0.1, shape=[out_dimension]))\n",
    "    \n",
    "    cur_layer = tf.nn.relu(tf.matmul(cur_layer, weight) + bias)\n",
    "    in_dimension = layer_dimension[i]\n",
    "\n",
    "mse_loss = tf.reduce_mean(tf.square(y_ - cur_layer))\n",
    "tf.add_to_collection('losses', mse_loss)\n",
    "\n",
    "loss = tf.add_n(tf.get_collection('losses'))"
   ]
  },
  {
   "cell_type": "code",
   "execution_count": 50,
   "metadata": {},
   "outputs": [
    {
     "name": "stdout",
     "output_type": "stream",
     "text": [
      "[0.0, 0.0] \n\n5.0 \n\n[5.0, 4.5] \n\n"
     ]
    },
    {
     "name": "stdout",
     "output_type": "stream",
     "text": [
      "[10.0, 4.555] \n\n[10.0, 4.60945] \n\n"
     ]
    }
   ],
   "source": [
    "import tensorflow as tf\n",
    "\n",
    "v1 = tf.Variable(0, dtype=tf.float32)\n",
    "step = tf.Variable(0, trainable=False)\n",
    "\n",
    "ema = tf.train.ExponentialMovingAverage(0.99, step)\n",
    "maintain_averages_op = ema.apply([v1])\n",
    "\n",
    "with tf.Session() as sess:\n",
    "    init_op = tf.initialize_all_variables()\n",
    "    sess.run(init_op)\n",
    "    \n",
    "    print sess.run([v1, ema.average(v1)]), '\\n'\n",
    "    print sess.run(tf.assign(v1, 5)), '\\n'\n",
    "    \n",
    "    sess.run(maintain_averages_op)\n",
    "    print sess.run([v1, ema.average(v1)]), '\\n'\n",
    "    \n",
    "    sess.run(tf.assign(step, 10000))\n",
    "    sess.run(tf.assign(v1, 10))\n",
    "    sess.run(maintain_averages_op)\n",
    "    print sess.run([v1, ema.average(v1)]), '\\n'\n",
    "    \n",
    "    sess.run(maintain_averages_op)\n",
    "    print sess.run([v1, ema.average(v1)]), '\\n'"
   ]
  },
  {
   "cell_type": "code",
   "execution_count": null,
   "metadata": {},
   "outputs": [],
   "source": []
  }
 ],
 "metadata": {
  "kernelspec": {
   "display_name": "Python 2",
   "language": "python",
   "name": "python2"
  },
  "language_info": {
   "codemirror_mode": {
    "name": "ipython",
    "version": 2
   },
   "file_extension": ".py",
   "mimetype": "text/x-python",
   "name": "python",
   "nbconvert_exporter": "python",
   "pygments_lexer": "ipython2",
   "version": "2.7.6"
  }
 },
 "nbformat": 4,
 "nbformat_minor": 0
}
