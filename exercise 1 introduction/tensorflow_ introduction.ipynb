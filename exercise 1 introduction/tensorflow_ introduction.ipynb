{
 "cells": [
  {
   "cell_type": "markdown",
   "metadata": {},
   "source": [
    "#                                 TensorFlow 简介"
   ]
  },
  {
   "cell_type": "code",
   "execution_count": 35,
   "metadata": {
    "collapsed": false
   },
   "outputs": [
    {
     "name": "stdout",
     "output_type": "stream",
     "text": [
      "Rs Tensor:  Tensor(\"add_10:0\", shape=(2,), dtype=float32)\nresult:  [3. 5.]\n"
     ]
    }
   ],
   "source": [
    "import tensorflow as tf\n",
    "a = tf.constant([1.0, 2.0], name='a')\n",
    "b = tf.constant([2.0, 3.0], name='b')\n",
    "result = a + b\n",
    "print \"Rs Tensor: \", result\n",
    "\n",
    "with tf.Session() as sess:\n",
    "    print \"result: \", sess.run(result)"
   ]
  },
  {
   "cell_type": "code",
   "execution_count": null,
   "metadata": {},
   "outputs": [],
   "source": [
    "same_graph = a.graph is tf.get_default_graph()\n",
    "\n",
    "print \"same graph :\", same_graph"
   ]
  },
  {
   "cell_type": "markdown",
   "metadata": {},
   "source": [
    "### TensorFlow 可通过tf.Graph 生成图"
   ]
  },
  {
   "cell_type": "code",
   "execution_count": 33,
   "metadata": {},
   "outputs": [
    {
     "name": "stdout",
     "output_type": "stream",
     "text": [
      "<tensorflow.python.framework.ops.Graph object at 0x11e2f9450>\nTensor v1:  <tf.Variable 'v:0' shape=(1,) dtype=float32_ref>\nValue v1:  [0.]\n\n---------------------------------------------------------------------------------------------------- \n\nTensor v2:  <tf.Variable 'v:0' shape=(1,) dtype=float32_ref>\nValue v2:  [1.]\n[0.]\n[1.]\n"
     ]
    }
   ],
   "source": [
    "g1 = tf.Graph()\n",
    "print g1\n",
    "with g1.as_default():\n",
    "    # 在计算图g1中定义变量“v”, 并设置初始值为0\n",
    "    v = tf.get_variable(\"v\", shape=[1], initializer=tf.zeros_initializer())\n",
    "    print \"Tensor v1: \", v\n",
    "    with tf.Session() as sess:\n",
    "        sess.run(tf.initialize_all_variables())\n",
    "        print \"Value v1: \", sess.run(v)\n",
    "        \n",
    "print \"\\n\", 100*'-', \"\\n\"\n",
    "g2 = tf.Graph()\n",
    "with g2.as_default():\n",
    "    # 在计算图g2中定义变量“v”, 并设置初始值为1\n",
    "    v = tf.get_variable(\"v\", shape=[1], initializer=tf.ones_initializer())\n",
    "    print \"Tensor v2: \", v\n",
    "    with tf.Session() as sess:\n",
    "        sess.run(tf.initialize_all_variables())\n",
    "        print \"Value v2: \", sess.run(v)\n",
    "\n",
    "\n",
    "# 在计算图g1中读取变量v的取值\n",
    "with tf.Session(graph=g1) as sess:\n",
    "    sess.run(tf.initialize_all_variables())\n",
    "    with tf.variable_scope(\"\", reuse=True):\n",
    "        print(sess.run(tf.get_variable(\"v\")))\n",
    "        \n",
    "\n",
    "# 在计算图g2中读取变量v的取值\n",
    "with tf.Session(graph=g2) as sess:\n",
    "    sess.run(tf.initialize_all_variables())\n",
    "    with tf.variable_scope(\"\", reuse=True):\n",
    "        print(sess.run(tf.get_variable(\"v\")))"
   ]
  },
  {
   "cell_type": "code",
   "execution_count": 54,
   "metadata": {},
   "outputs": [
    {
     "name": "stdout",
     "output_type": "stream",
     "text": [
      "w1: \n[[-0.8113182   1.4845988   0.06532937]\n [-2.4427042   0.0992484   0.5912243 ]]\nw2: \n[[-0.8113182 ]\n [ 1.4845988 ]\n [ 0.06532937]]\n\n\nInput:\n[[0.7 0.9]\n [0.1 0.4]\n [0.5 0.8]]\nOutput:\n[[3.957578 ]\n [1.1537654]\n [3.1674924]]\n"
     ]
    }
   ],
   "source": [
    "# 声明w1、w2两个变量,这里通过seed参数设置随机种子, 保证每次运行得到的结果是一样的;\n",
    "w1 = tf.Variable(tf.random_normal([2, 3], stddev=1, seed=1))\n",
    "w2 = tf.Variable(tf.random_normal([3, 1], stddev=1, seed=1))\n",
    "\n",
    "x = tf.placeholder(tf.float32, shape=(None, 2), name=\"input\")\n",
    "a = tf.matmul(x, w1)  # model logic\n",
    "y = tf.matmul(a, w2)  # 输出\n",
    "\n",
    "with tf.Session() as sess:\n",
    "    sess.run(w1.initializer)\n",
    "    sess.run(w2.initializer)\n",
    "    \n",
    "    print \"w1:\", \"\\n\", sess.run(w1)\n",
    "    print \"w2:\", \"\\n\", sess.run(w2)\n",
    "    print \"\\n\"\n",
    "    print \"Input:\\n\", sess.run(x, feed_dict={x: [[0.7, 0.9], [0.1, 0.4], [0.5, 0.8]]})\n",
    "    print \"Output:\\n\", sess.run(y, feed_dict={x: [[0.7, 0.9], [0.1, 0.4], [0.5, 0.8]]})"
   ]
  },
  {
   "cell_type": "markdown",
   "metadata": {},
   "source": [
    "#### 完整的圣经网络样例"
   ]
  },
  {
   "cell_type": "code",
   "execution_count": 66,
   "metadata": {},
   "outputs": [
    {
     "name": "stdout",
     "output_type": "stream",
     "text": [
      "(128, 2) (128, 1)\n"
     ]
    },
    {
     "name": "stdout",
     "output_type": "stream",
     "text": [
      "After 0 training steps, cross entropy on all data is 0.0674925\n"
     ]
    },
    {
     "name": "stdout",
     "output_type": "stream",
     "text": [
      "After 1000 training steps, cross entropy on all data is 0.0163385\n"
     ]
    },
    {
     "name": "stdout",
     "output_type": "stream",
     "text": [
      "After 2000 training steps, cross entropy on all data is 0.00907547\n"
     ]
    },
    {
     "name": "stdout",
     "output_type": "stream",
     "text": [
      "After 3000 training steps, cross entropy on all data is 0.00714436\n"
     ]
    },
    {
     "name": "stdout",
     "output_type": "stream",
     "text": [
      "After 4000 training steps, cross entropy on all data is 0.00578471\n"
     ]
    }
   ],
   "source": [
    "import tensorflow as tf\n",
    "from numpy.random import RandomState\n",
    "\n",
    "batch_size = 8  # batch 大小\n",
    "\n",
    "w1 = tf.Variable(tf.random_normal([2, 3], stddev=1, seed=1))  # firstly layer weights\n",
    "w2 = tf.Variable(tf.random_normal([3, 1], stddev=1, seed=1))    # secondly layer weights\n",
    "\n",
    "x = tf.placeholder(tf.float32, shape=(None, 2), name=\"x-input\")     # input x values\n",
    "y_ = tf.placeholder(tf.float32, shape=(None, 1), name=\"y-input\")    # input y values\n",
    "\n",
    "\n",
    "a = tf.matmul(x, w1)    # hidden output\n",
    "y = tf.matmul(a, w2)   # prediction y\n",
    "\n",
    "\n",
    "loss = -tf.reduce_mean(y_ * tf.log(tf.clip_by_value(y, 1e-10, 1.0)))   # cross entropy\n",
    "opt = tf.train.AdamOptimizer(0.001).minimize(loss)   # optimizer\n",
    "\n",
    "import numpy as np\n",
    "rdm = RandomState(1)\n",
    "dataset_size = 128\n",
    "X = rdm.rand(dataset_size, 2)\n",
    "Y = np.array([[int(x1 + x2 < 1)] for (x1, x2) in X])\n",
    "\n",
    "print X.shape, Y.shape\n",
    "\n",
    "with tf.Session() as sess:\n",
    "    sess.run(tf.initialize_all_variables())\n",
    "    # print sess.run(w1), sess.run(w2)\n",
    "    STEPS = 5000\n",
    "    for i in range(STEPS):\n",
    "        start = (i * batch_size) % dataset_size\n",
    "        end = min(start + batch_size, dataset_size)\n",
    "        sess.run(opt, feed_dict={x: X[start: end], y_: Y[start: end]})\n",
    "        if i % 1000 == 0:\n",
    "            total_cross_entropy = sess.run(loss, feed_dict={x: X, y_: Y})\n",
    "            print \"After %d training steps, cross entropy on all data is %g\" % (i, total_cross_entropy)"
   ]
  },
  {
   "cell_type": "code",
   "execution_count": null,
   "metadata": {},
   "outputs": [],
   "source": []
  }
 ],
 "metadata": {
  "kernelspec": {
   "display_name": "Python 2",
   "language": "python",
   "name": "python2"
  },
  "language_info": {
   "codemirror_mode": {
    "name": "ipython",
    "version": 2
   },
   "file_extension": ".py",
   "mimetype": "text/x-python",
   "name": "python",
   "nbconvert_exporter": "python",
   "pygments_lexer": "ipython2",
   "version": "2.7.6"
  }
 },
 "nbformat": 4,
 "nbformat_minor": 0
}
