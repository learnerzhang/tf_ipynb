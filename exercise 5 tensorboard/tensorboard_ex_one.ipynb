{
 "cells": [
  {
   "cell_type": "code",
   "execution_count": null,
   "metadata": {},
   "outputs": [],
   "source": []
  },
  {
   "cell_type": "code",
   "execution_count": null,
   "metadata": {},
   "outputs": [],
   "source": []
  },
  {
   "cell_type": "code",
   "execution_count": null,
   "metadata": {},
   "outputs": [],
   "source": []
  },
  {
   "cell_type": "code",
   "execution_count": null,
   "metadata": {},
   "outputs": [],
   "source": []
  },
  {
   "cell_type": "code",
   "execution_count": 3,
   "metadata": {
    "collapsed": false
   },
   "outputs": [
    {
     "name": "stdout",
     "output_type": "stream",
     "text": [
      "Extracting /Users/zhangzhen/gitRepository/AnalyticsVidhya/_tensorflow/MNIST_data/train-images-idx3-ubyte.gz\n"
     ]
    },
    {
     "name": "stdout",
     "output_type": "stream",
     "text": [
      "Extracting /Users/zhangzhen/gitRepository/AnalyticsVidhya/_tensorflow/MNIST_data/train-labels-idx1-ubyte.gz\nExtracting /Users/zhangzhen/gitRepository/AnalyticsVidhya/_tensorflow/MNIST_data/t10k-images-idx3-ubyte.gz\nExtracting /Users/zhangzhen/gitRepository/AnalyticsVidhya/_tensorflow/MNIST_data/t10k-labels-idx1-ubyte.gz\n"
     ]
    },
    {
     "name": "stdout",
     "output_type": "stream",
     "text": [
      "('X shape: ', (55000, 784), ' Y shape: ', (55000, 10), ' samples number:', 55000)\n(<tf.Variable 'weight:0' shape=(784, 10) dtype=float32_ref>, <tf.Variable 'bias:0' shape=(10,) dtype=float32_ref>)\nTensor(\"Softmax:0\", shape=(?, 10), dtype=float32)\n"
     ]
    },
    {
     "name": "stdout",
     "output_type": "stream",
     "text": [
      "INFO:tensorflow:Summary name Train Loss is illegal; using Train_Loss instead.\n"
     ]
    },
    {
     "name": "stdout",
     "output_type": "stream",
     "text": [
      "('Epoch:', '0002', '\\tcost=', '2.202479124')\n"
     ]
    },
    {
     "name": "stdout",
     "output_type": "stream",
     "text": [
      "('Epoch:', '0004', '\\tcost=', '2.078488827')\n"
     ]
    },
    {
     "name": "stdout",
     "output_type": "stream",
     "text": [
      "('Epoch:', '0006', '\\tcost=', '1.965849400')\n"
     ]
    },
    {
     "name": "stdout",
     "output_type": "stream",
     "text": [
      "('Epoch:', '0008', '\\tcost=', '1.915660977')\n"
     ]
    },
    {
     "name": "stdout",
     "output_type": "stream",
     "text": [
      "('Epoch:', '0010', '\\tcost=', '1.888607144')\n"
     ]
    },
    {
     "name": "stdout",
     "output_type": "stream",
     "text": [
      "('Epoch:', '0012', '\\tcost=', '1.869444609')\n"
     ]
    },
    {
     "name": "stdout",
     "output_type": "stream",
     "text": [
      "('Epoch:', '0014', '\\tcost=', '1.845673323')\n"
     ]
    },
    {
     "name": "stdout",
     "output_type": "stream",
     "text": [
      "('Epoch:', '0016', '\\tcost=', '1.818122149')\n"
     ]
    },
    {
     "name": "stdout",
     "output_type": "stream",
     "text": [
      "('Epoch:', '0018', '\\tcost=', '1.798441172')\n"
     ]
    },
    {
     "name": "stdout",
     "output_type": "stream",
     "text": [
      "('Epoch:', '0020', '\\tcost=', '1.783277750')\n"
     ]
    },
    {
     "name": "stdout",
     "output_type": "stream",
     "text": [
      "('Epoch:', '0022', '\\tcost=', '1.771295190')\n"
     ]
    },
    {
     "name": "stdout",
     "output_type": "stream",
     "text": [
      "('Epoch:', '0024', '\\tcost=', '1.761613369')\n"
     ]
    },
    {
     "name": "stdout",
     "output_type": "stream",
     "text": [
      "('Epoch:', '0026', '\\tcost=', '1.753615856')\n"
     ]
    },
    {
     "name": "stdout",
     "output_type": "stream",
     "text": [
      "('Epoch:', '0028', '\\tcost=', '1.746876121')\n"
     ]
    },
    {
     "name": "stdout",
     "output_type": "stream",
     "text": [
      "('Epoch:', '0030', '\\tcost=', '1.741107941')\n"
     ]
    },
    {
     "name": "stdout",
     "output_type": "stream",
     "text": [
      "('Epoch:', '0032', '\\tcost=', '1.736079454')\n"
     ]
    },
    {
     "name": "stdout",
     "output_type": "stream",
     "text": [
      "('Epoch:', '0034', '\\tcost=', '1.731657147')\n"
     ]
    },
    {
     "name": "stdout",
     "output_type": "stream",
     "text": [
      "('Epoch:', '0036', '\\tcost=', '1.727725029')\n"
     ]
    },
    {
     "name": "stdout",
     "output_type": "stream",
     "text": [
      "('Epoch:', '0038', '\\tcost=', '1.724191427')\n"
     ]
    },
    {
     "name": "stdout",
     "output_type": "stream",
     "text": [
      "('Epoch:', '0040', '\\tcost=', '1.720995784')\n"
     ]
    },
    {
     "name": "stdout",
     "output_type": "stream",
     "text": [
      "('Epoch:', '0042', '\\tcost=', '1.718084097')\n"
     ]
    },
    {
     "name": "stdout",
     "output_type": "stream",
     "text": [
      "('Epoch:', '0044', '\\tcost=', '1.715417147')\n"
     ]
    },
    {
     "name": "stdout",
     "output_type": "stream",
     "text": [
      "('Epoch:', '0046', '\\tcost=', '1.712962270')\n"
     ]
    },
    {
     "name": "stdout",
     "output_type": "stream",
     "text": [
      "('Epoch:', '0048', '\\tcost=', '1.710689664')\n"
     ]
    },
    {
     "name": "stdout",
     "output_type": "stream",
     "text": [
      "('Epoch:', '0050', '\\tcost=', '1.708574772')\n"
     ]
    },
    {
     "name": "stdout",
     "output_type": "stream",
     "text": [
      "('Epoch:', '0052', '\\tcost=', '1.706606269')\n"
     ]
    },
    {
     "name": "stdout",
     "output_type": "stream",
     "text": [
      "('Epoch:', '0054', '\\tcost=', '1.704761982')\n"
     ]
    },
    {
     "name": "stdout",
     "output_type": "stream",
     "text": [
      "('Epoch:', '0056', '\\tcost=', '1.703030944')\n"
     ]
    },
    {
     "name": "stdout",
     "output_type": "stream",
     "text": [
      "('Epoch:', '0058', '\\tcost=', '1.701402664')\n"
     ]
    },
    {
     "name": "stdout",
     "output_type": "stream",
     "text": [
      "('Epoch:', '0060', '\\tcost=', '1.699865460')\n"
     ]
    },
    {
     "name": "stdout",
     "output_type": "stream",
     "text": [
      "('Epoch:', '0062', '\\tcost=', '1.698410511')\n"
     ]
    },
    {
     "name": "stdout",
     "output_type": "stream",
     "text": [
      "('Epoch:', '0064', '\\tcost=', '1.697034001')\n"
     ]
    },
    {
     "name": "stdout",
     "output_type": "stream",
     "text": [
      "('Epoch:', '0066', '\\tcost=', '1.695727468')\n"
     ]
    },
    {
     "name": "stdout",
     "output_type": "stream",
     "text": [
      "('Epoch:', '0068', '\\tcost=', '1.694481492')\n"
     ]
    },
    {
     "name": "stdout",
     "output_type": "stream",
     "text": [
      "('Epoch:', '0070', '\\tcost=', '1.693295121')\n"
     ]
    },
    {
     "name": "stdout",
     "output_type": "stream",
     "text": [
      "('Epoch:', '0072', '\\tcost=', '1.692163110')\n"
     ]
    },
    {
     "name": "stdout",
     "output_type": "stream",
     "text": [
      "('Epoch:', '0074', '\\tcost=', '1.691079736')\n"
     ]
    },
    {
     "name": "stdout",
     "output_type": "stream",
     "text": [
      "('Epoch:', '0076', '\\tcost=', '1.690042019')\n"
     ]
    },
    {
     "name": "stdout",
     "output_type": "stream",
     "text": [
      "('Epoch:', '0078', '\\tcost=', '1.689046860')\n"
     ]
    },
    {
     "name": "stdout",
     "output_type": "stream",
     "text": [
      "('Epoch:', '0080', '\\tcost=', '1.688092589')\n"
     ]
    },
    {
     "name": "stdout",
     "output_type": "stream",
     "text": [
      "('Epoch:', '0082', '\\tcost=', '1.687177181')\n"
     ]
    },
    {
     "name": "stdout",
     "output_type": "stream",
     "text": [
      "('Epoch:', '0084', '\\tcost=', '1.686295509')\n"
     ]
    },
    {
     "name": "stdout",
     "output_type": "stream",
     "text": [
      "('Epoch:', '0086', '\\tcost=', '1.685447454')\n"
     ]
    },
    {
     "name": "stdout",
     "output_type": "stream",
     "text": [
      "('Epoch:', '0088', '\\tcost=', '1.684629679')\n"
     ]
    },
    {
     "name": "stdout",
     "output_type": "stream",
     "text": [
      "('Epoch:', '0090', '\\tcost=', '1.683839798')\n"
     ]
    },
    {
     "name": "stdout",
     "output_type": "stream",
     "text": [
      "('Epoch:', '0092', '\\tcost=', '1.683076739')\n"
     ]
    },
    {
     "name": "stdout",
     "output_type": "stream",
     "text": [
      "('Epoch:', '0094', '\\tcost=', '1.682339430')\n"
     ]
    },
    {
     "name": "stdout",
     "output_type": "stream",
     "text": [
      "('Epoch:', '0096', '\\tcost=', '1.681628466')\n"
     ]
    },
    {
     "name": "stdout",
     "output_type": "stream",
     "text": [
      "('Epoch:', '0098', '\\tcost=', '1.680938125')\n"
     ]
    },
    {
     "name": "stdout",
     "output_type": "stream",
     "text": [
      "('Epoch:', '0100', '\\tcost=', '1.680269361')\n"
     ]
    }
   ],
   "source": [
    "from tensorflow.examples.tutorials.mnist import input_data\n",
    "import matplotlib.pyplot as plt\n",
    "import tensorflow as tf\n",
    "import  numpy as np\n",
    "import random\n",
    "\n",
    "learning_rate = 0.01\n",
    "training_epochs = 100\n",
    "display_step = 2\n",
    "batch_size = 100\n",
    "\n",
    "\n",
    "data_dir = '/Users/zhangzhen/gitRepository/AnalyticsVidhya/_tensorflow/MNIST_data/'  # 样本数据存储的路径\n",
    "logs_path = \"/Users/zhangzhen/gitRepository/AnalyticsVidhya/_tensorflow/tensorboard/log_ex1\"\n",
    "\n",
    "mnist = input_data.read_data_sets(data_dir, one_hot=True)\n",
    "\n",
    "n_samples = int(mnist.train.num_examples)     \n",
    "train_X = mnist.train.images\n",
    "train_Y = mnist.train.labels\n",
    "\n",
    "test_X = mnist.test.images\n",
    "test_Y = mnist.test.labels\n",
    "\n",
    "\n",
    "print(\"X shape: \", train_X.shape, \" Y shape: \", train_Y.shape, \" samples number:\", n_samples)\n",
    "\n",
    "tf.reset_default_graph()  # VIP\n",
    "X = tf.placeholder(dtype=tf.float32, shape=[None, 784], name=\"input-x\")\n",
    "Y = tf.placeholder(dtype=tf.float32, shape=[None, 10], name=\"input-y\")\n",
    "\n",
    "W = tf.Variable(tf.random_normal([784, 10], stddev=0.1, seed=1), name=\"weight\")\n",
    "b = tf.Variable(tf.constant(0.1, shape=[10]), name=\"bias\")\n",
    "print(W, b)\n",
    "\n",
    "# logic\n",
    "prediction = tf.nn.softmax(tf.add(tf.matmul(X, W), b))\n",
    "\n",
    "print(prediction)\n",
    "\n",
    "# loss\n",
    "cross_entropy = tf.nn.softmax_cross_entropy_with_logits(logits=prediction, labels=Y)\n",
    "loss = tf.reduce_mean(cross_entropy)\n",
    "optimizer = tf.train.GradientDescentOptimizer(0.005).minimize(loss)\n",
    "\n",
    "\n",
    "# create summary to watch the loss\n",
    "tf.summary.scalar(\"Train Loss\", loss)\n",
    "merged_summary_op = tf.summary.merge_all()\n",
    "summary_writer = tf.summary.FileWriter(logs_path, tf.get_default_graph())\n",
    "\n",
    "with tf.Session() as sess:\n",
    "    sess.run(tf.global_variables_initializer())  # init\n",
    "    \n",
    "    # write the indeed records  to file\n",
    "    batch_nums = int(n_samples / batch_size)  # one epochs need how many batches \n",
    "    for epoch in range(training_epochs):\n",
    "        for i in range(batch_nums):\n",
    "            xs, ys = mnist.train.next_batch(batch_size=batch_size)\n",
    "            sess.run(optimizer, feed_dict={X: xs, Y: ys})\n",
    "\n",
    "        if (epoch+1) % display_step == 0:\n",
    "            train_loss = sess.run(loss, feed_dict={X: train_X, Y: train_Y})\n",
    "            summary = sess.run(merged_summary_op, feed_dict={X: train_X, Y: train_Y})\n",
    "            summary_writer.add_summary(summary, epoch * n_samples)\n",
    "            print(\"Epoch:\", '%04d' % (epoch + 1), \"\\tcost=\", \"{:.9f}\".format(train_loss))\n",
    "\n",
    "summary_writer.close()\n"
   ]
  }
 ],
 "metadata": {
  "kernelspec": {
   "display_name": "Python 2",
   "language": "python",
   "name": "python2"
  },
  "language_info": {
   "codemirror_mode": {
    "name": "ipython",
    "version": 2
   },
   "file_extension": ".py",
   "mimetype": "text/x-python",
   "name": "python",
   "nbconvert_exporter": "python",
   "pygments_lexer": "ipython2",
   "version": "2.7.6"
  }
 },
 "nbformat": 4,
 "nbformat_minor": 0
}
