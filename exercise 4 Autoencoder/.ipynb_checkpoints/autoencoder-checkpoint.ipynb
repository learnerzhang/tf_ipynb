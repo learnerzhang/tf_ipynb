{
 "cells": [
  {
   "cell_type": "code",
   "execution_count": 2,
   "metadata": {},
   "outputs": [],
   "source": [
    "import numpy as np\n",
    "import tensorflow as tf\n",
    "import sklearn.preprocessing as prep\n",
    "from tensorflow.examples.tutorials.mnist import input_data"
   ]
  },
  {
   "cell_type": "code",
   "execution_count": 20,
   "metadata": {},
   "outputs": [
    {
     "name": "stdout",
     "output_type": "stream",
     "text": [
      "/Users/zhangzhen/gitRepository/AnalyticsVidhya/_tensorflow/exercise 4 Autoencoder\n"
     ]
    }
   ],
   "source": [
    "import os\n",
    "print(os.getcwd())"
   ]
  },
  {
   "cell_type": "code",
   "execution_count": 15,
   "metadata": {},
   "outputs": [
    {
     "name": "stdout",
     "output_type": "stream",
     "text": [
      "[[ 1.2753667 -0.8893076]] \n",
      "\n",
      "[[-0.94553816 -0.6192771 ]\n",
      " [ 0.30288458 -0.0173583 ]] \n",
      "\n",
      "[[-0.14478323  0.42193198  0.5913229   0.5404093   0.51564264  0.4049754\n",
      "  -0.0823831  -0.4832964  -0.33054468  0.55543935  0.05526876 -0.21827489]\n",
      " [-0.15669599  0.03620082  0.20468676  0.20888108 -0.52439004 -0.56376845\n",
      "  -0.44304222 -0.41068006 -0.27624023 -0.23688167  0.43199992 -0.58621424]\n",
      " [-0.39140615  0.17182392 -0.03290224 -0.49386993 -0.05468887  0.15916097\n",
      "  -0.5355289  -0.48859066  0.09848702 -0.395486    0.0695771   0.4896214 ]\n",
      " [-0.00819868 -0.309164    0.37373197 -0.34931874 -0.52470434  0.3456036\n",
      "   0.38622504 -0.589108   -0.5426845   0.5558406   0.37312037  0.08325487]\n",
      " [-0.40803123  0.23377883  0.24962854  0.01103389  0.13320714  0.23818177\n",
      "   0.18491244  0.42223883 -0.54655516  0.14062732  0.16830367  0.31428617]] \n",
      "\n"
     ]
    }
   ],
   "source": [
    "# Xavier  美 ['zeɪvɪr]\n",
    "\n",
    "# define xavier initialization function, mean distribution or gauss distribution\n",
    "# mean = 0, var = 2/(dim_in+dim_out) \n",
    "\n",
    "\n",
    "def xavier_init(dim_in, dim_out, constant=1):\n",
    "    \"\"\"\n",
    "    dim_in: dimension of the input tensor \n",
    "    dim_out: dimension of the out tensor \n",
    "    \"\"\"\n",
    "    span = np.sqrt(6/(dim_in + dim_out))\n",
    "    return tf.random_uniform((dim_in, dim_out), minval=-span, maxval=span, dtype=tf.float32)\n",
    "\n",
    "with tf.Session() as sess:\n",
    "    sess.run(tf.global_variables_initializer())\n",
    "    print(sess.run(xavier_init(1, 2)), \"\\n\")\n",
    "    print(sess.run(xavier_init(2, 2)), \"\\n\")\n",
    "    print(sess.run(xavier_init(5, 12)), \"\\n\")"
   ]
  },
  {
   "cell_type": "code",
   "execution_count": 19,
   "metadata": {},
   "outputs": [
    {
     "name": "stdout",
     "output_type": "stream",
     "text": [
      "Extracting MNIST_data/train-images-idx3-ubyte.gz\n",
      "Extracting MNIST_data/train-labels-idx1-ubyte.gz\n",
      "Extracting MNIST_data/t10k-images-idx3-ubyte.gz\n",
      "Extracting MNIST_data/t10k-labels-idx1-ubyte.gz\n"
     ]
    },
    {
     "ename": "TypeError",
     "evalue": "object() takes no parameters",
     "output_type": "error",
     "traceback": [
      "\u001b[0;31m---------------------------------------------------------------------------\u001b[0m",
      "\u001b[0;31mTypeError\u001b[0m                                 Traceback (most recent call last)",
      "\u001b[0;32m<ipython-input-19-5e4ff424d679>\u001b[0m in \u001b[0;36m<module>\u001b[0;34m()\u001b[0m\n\u001b[1;32m     67\u001b[0m                                                    \u001b[0mtransfer_function\u001b[0m\u001b[0;34m=\u001b[0m\u001b[0mtf\u001b[0m\u001b[0;34m.\u001b[0m\u001b[0mnn\u001b[0m\u001b[0;34m.\u001b[0m\u001b[0msoftplus\u001b[0m\u001b[0;34m,\u001b[0m\u001b[0;34m\u001b[0m\u001b[0m\n\u001b[1;32m     68\u001b[0m                                                    \u001b[0moptimizer\u001b[0m \u001b[0;34m=\u001b[0m \u001b[0mtf\u001b[0m\u001b[0;34m.\u001b[0m\u001b[0mtrain\u001b[0m\u001b[0;34m.\u001b[0m\u001b[0mAdamOptimizer\u001b[0m\u001b[0;34m(\u001b[0m\u001b[0mlearning_rate\u001b[0m\u001b[0;34m=\u001b[0m\u001b[0;36m0.001\u001b[0m\u001b[0;34m)\u001b[0m\u001b[0;34m,\u001b[0m\u001b[0;34m\u001b[0m\u001b[0m\n\u001b[0;32m---> 69\u001b[0;31m                                                    scale = 0.01)\n\u001b[0m\u001b[1;32m     70\u001b[0m \u001b[0;34m\u001b[0m\u001b[0m\n",
      "\u001b[0;31mTypeError\u001b[0m: object() takes no parameters"
     ]
    }
   ],
   "source": [
    "class AdditiveGaussianNoiseAutoEncoder:\n",
    "    \n",
    "    def __init(self, n_input, n_hidden, transfer_function=tf.nn.softplus, optimizer=tf.train.AdamOptimizer(), scale=0.1):\n",
    "        self.n_input = n_input\n",
    "        self.n_hidden = n_hidden\n",
    "        self.transfer = transfer_function\n",
    "        self.scale = tf.placeholder(tf.float32)\n",
    "        self.training_scale = scale\n",
    "\n",
    "        network_weights = self._initialize_weights()\n",
    "        self.weights = network_weights\n",
    "        \n",
    "        with tf.name_scope(\"input\"):\n",
    "            self.x = tf.placeholder(tf.float32, [None, self.n_input])\n",
    "        \n",
    "        with tf.name_scope(\"hidden\"):\n",
    "            self.hidden = self.transfer(\n",
    "                tf.add(tf.matmul(self.x + scale*tf.random_normal((n_input,)), self.weights['w1']),\n",
    "                       self.weights['b1'])\n",
    "            )\n",
    "        with tf.name_scope(\"output\"):\n",
    "            self.reconstruction = tf.add(tf.matmul(self.hidden, self.weights['w2']), self.weights['b2'])\n",
    "    \n",
    "        \n",
    "        with tf.name_scope('loss'):\n",
    "            self.cost = 0.5 * tf.reduce_mean(tf.pow(tf.subtract(self.reconstruction, self.x), 2.0))\n",
    "        \n",
    "    \n",
    "        self.optimizer = optimizer.minimize(self.cost)\n",
    "        \n",
    "        self.sess = tf.Session()\n",
    "        sess.run(tf.gloal_variables_initializer())\n",
    "    \n",
    "    \n",
    "    def _initialize_weights(self):\n",
    "        all_weights = dict()\n",
    "        all_weights['w1'] = tf.Variable(xavier_init(self.n_input, self.n_hidden))\n",
    "        all_weights['b1'] = tf.Variable(tf.zeros([self.n_hidden], dtype=tf.float32))\n",
    "        \n",
    "        all_weights['w2'] = tf.Variable(tf.zeros([self.n_hidden, self.n_input], dtype=tf.float32))\n",
    "        all_weights['b2'] = tf.Variable(tf.zeros([self.n_input], dtype=tf.float32))\n",
    "        return all_weights\n",
    "\n",
    "mnist = input_data.read_data_sets('/Users/zhangzhen/gitRepository/AnalyticsVidhya/_tensorflow/MNIST_data', one_hot=True)\n",
    "\n",
    "with tf.Graph().as_default():\n",
    "\n",
    "    def standard_scale(X_train, X_test):\n",
    "            preprocessor = prep.StandardScaler().fit(X_train)\n",
    "            X_train = preprocessor.transform(X_train)\n",
    "            X_test = preprocessor.transform(X_test)\n",
    "            return X_train, X_test\n",
    "    \n",
    "    def get_random_block_from_data(data, batch_size):\n",
    "            start_index = np.random.randint(0, len(data)-batch_size)\n",
    "            return data[start_index:(start_index+batch_size)]\n",
    "\n",
    "    X_train, X_test = standard_scale(mnist.train.images, mnist.test.images)\n",
    "    \n",
    "    n_samples = int(mnist.train.num_examples)        \n",
    "    training_epochs = 20\n",
    "    batch_size = 128\n",
    "    display_step = 2\n",
    "    \n",
    "    autoencoder = AdditiveGaussianNoiseAutoEncoder(n_input = 784,\n",
    "                                                   n_hidden = 200,\n",
    "                                                   transfer_function=tf.nn.softplus,\n",
    "                                                   optimizer = tf.train.AdamOptimizer(learning_rate=0.001),\n",
    "                                                   scale = 0.01)\n",
    "    \n"
   ]
  },
  {
   "cell_type": "code",
   "execution_count": null,
   "metadata": {},
   "outputs": [],
   "source": []
  }
 ],
 "metadata": {
  "kernelspec": {
   "display_name": "Python 3",
   "language": "python",
   "name": "python3"
  },
  "language_info": {
   "codemirror_mode": {
    "name": "ipython",
    "version": 3
   },
   "file_extension": ".py",
   "mimetype": "text/x-python",
   "name": "python",
   "nbconvert_exporter": "python",
   "pygments_lexer": "ipython3",
   "version": "3.6.5"
  }
 },
 "nbformat": 4,
 "nbformat_minor": 2
}
